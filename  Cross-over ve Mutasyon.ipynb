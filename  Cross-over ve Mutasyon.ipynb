{
 "cells": [
  {
   "cell_type": "code",
   "execution_count": 97,
   "id": "466d4000-f5ac-410c-9691-621b2ad6b43a",
   "metadata": {},
   "outputs": [],
   "source": [
    "import numpy as np"
   ]
  },
  {
   "cell_type": "code",
   "execution_count": 99,
   "id": "71b2ea4c-abed-428f-9fbd-a8ee69269195",
   "metadata": {},
   "outputs": [],
   "source": [
    "ebeveyn1 = [1, 0, 1, 1, 0, 1, 0, 1]\n",
    "ebeveyn2 = [0, 1, 0, 0, 1, 0, 1, 0]"
   ]
  },
  {
   "cell_type": "code",
   "execution_count": 101,
   "id": "c1b2c222-0408-4130-b2eb-af093c9c6b13",
   "metadata": {},
   "outputs": [],
   "source": [
    "# Çaprazlama işlemi\n",
    "def caprazlama(ebeveyn1, ebeveyn2):\n",
    "    # Rastgele bir çaprazlama noktası seçiliyor\n",
    "    caprazlama_noktasi = np.random.randint(1, len(ebeveyn1))\n",
    "    # Çocuklar oluşturuluyor\n",
    "    cocuk1 = ebeveyn1[:caprazlama_noktasi] + ebeveyn2[caprazlama_noktasi:]\n",
    "    cocuk2 = ebeveyn2[:caprazlama_noktasi] + ebeveyn1[caprazlama_noktasi:]\n",
    "    return cocuk1, cocuk2, caprazlama_noktasi"
   ]
  },
  {
   "cell_type": "code",
   "execution_count": 103,
   "id": "2dff7c92-730b-4a8a-bda3-e0ada5f775bb",
   "metadata": {},
   "outputs": [],
   "source": [
    "# Mutasyon işlemi\n",
    "def mutasyon(genotip, mutasyon_orani=0.1):\n",
    "    # Her gen için rastgele karar veriliyor mutasyon oranına göre işlem yapılıyor\n",
    "    return [1 - gen if np.random.rand() < mutasyon_orani else gen for gen in genotip]"
   ]
  },
  {
   "cell_type": "code",
   "execution_count": 105,
   "id": "de6dfefc-313d-47ed-8d03-21269ebce526",
   "metadata": {},
   "outputs": [],
   "source": [
    "# Çaprazlama işlemini gerçekleştiriyoruz\n",
    "cocuk1, cocuk2, caprazlama_noktasi = caprazlama(ebeveyn1, ebeveyn2)\n",
    "\n",
    "# Çocuklar üzerinde mutasyon işlemi yapıyoruz\n",
    "mutasyonlu_cocuk1 = mutasyon(cocuk1, mutasyon_orani=0.1)\n",
    "mutasyonlu_cocuk2 = mutasyon(cocuk2, mutasyon_orani=0.1)"
   ]
  },
  {
   "cell_type": "code",
   "execution_count": 107,
   "id": "73d9d2d5-c030-4874-bf7a-4c4af9afc166",
   "metadata": {},
   "outputs": [
    {
     "name": "stdout",
     "output_type": "stream",
     "text": [
      "Ebeveyn 1: [1, 0, 1, 1, 0, 1, 0, 1]\n",
      "Ebeveyn 2: [0, 1, 0, 0, 1, 0, 1, 0]\n",
      "Çaprazlama Noktası: 4\n",
      "Çocuk 1 (Mutasyon Öncesi): [1, 0, 1, 1, 1, 0, 1, 0]\n",
      "Çocuk 2 (Mutasyon Öncesi): [0, 1, 0, 0, 0, 1, 0, 1]\n",
      "Çocuk 1 (Mutasyon Sonrası): [1, 0, 1, 0, 1, 0, 1, 0]\n",
      "Çocuk 2 (Mutasyon Sonrası): [0, 0, 0, 0, 0, 1, 1, 1]\n"
     ]
    }
   ],
   "source": [
    "# Sonuçları ekrana yazdırıyoruz\n",
    "sonuclar = {\n",
    "    \"Ebeveyn 1\": ebeveyn1,\n",
    "    \"Ebeveyn 2\": ebeveyn2,\n",
    "    \"Çaprazlama Noktası\": caprazlama_noktasi,\n",
    "    \"Çocuk 1 (Mutasyon Öncesi)\": cocuk1,\n",
    "    \"Çocuk 2 (Mutasyon Öncesi)\": cocuk2,\n",
    "    \"Çocuk 1 (Mutasyon Sonrası)\": mutasyonlu_cocuk1,\n",
    "    \"Çocuk 2 (Mutasyon Sonrası)\": mutasyonlu_cocuk2\n",
    "}\n",
    "\n",
    "for anahtar, deger in sonuclar.items():\n",
    "    print(f\"{anahtar}: {deger}\")"
   ]
  },
  {
   "cell_type": "code",
   "execution_count": null,
   "id": "9575b7e8-0538-4fb8-80a1-b1d3ea5a4e0a",
   "metadata": {},
   "outputs": [],
   "source": []
  }
 ],
 "metadata": {
  "kernelspec": {
   "display_name": "Python 3 (ipykernel)",
   "language": "python",
   "name": "python3"
  },
  "language_info": {
   "codemirror_mode": {
    "name": "ipython",
    "version": 3
   },
   "file_extension": ".py",
   "mimetype": "text/x-python",
   "name": "python",
   "nbconvert_exporter": "python",
   "pygments_lexer": "ipython3",
   "version": "3.12.7"
  }
 },
 "nbformat": 4,
 "nbformat_minor": 5
}
